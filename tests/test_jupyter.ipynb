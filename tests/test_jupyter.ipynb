{
 "cells": [
  {
   "cell_type": "markdown",
   "metadata": {},
   "source": [
    "## Preparation\n",
    "\n",
    "Import the module itself."
   ]
  },
  {
   "cell_type": "code",
   "execution_count": 1,
   "metadata": {},
   "outputs": [],
   "source": [
    "import sys\n",
    "import os\n",
    "current_dir = os.path.dirname(os.path.abspath(\"__file__\"))\n",
    "project_root = os.path.abspath(os.path.join(current_dir, os.pardir))\n",
    "if project_root not in sys.path:\n",
    "    sys.path.insert(0, project_root)\n",
    "\n",
    "import imvis as iv"
   ]
  },
  {
   "cell_type": "markdown",
   "metadata": {},
   "source": [
    "Import other related modules."
   ]
  },
  {
   "cell_type": "code",
   "execution_count": 12,
   "metadata": {},
   "outputs": [],
   "source": [
    "import SimpleITK as sitk\n",
    "import numpy as np"
   ]
  },
  {
   "cell_type": "markdown",
   "metadata": {},
   "source": [
    "## Test each function\n",
    "\n",
    "### imagesc3s\n",
    "\n",
    "- `imagesc3s()` cannot be tested within the ipynb.\n",
    "\n",
    "- `imagesc3slider()`"
   ]
  },
  {
   "cell_type": "code",
   "execution_count": 10,
   "metadata": {},
   "outputs": [],
   "source": [
    "%matplotlib tk\n",
    "img = sitk.ReadImage('../samples/phantom.nii.gz')\n",
    "img = sitk.Flip(img, [True, True, True])\n",
    "img_array = sitk.GetArrayFromImage(img)\n",
    "iv.imagesc3slider(img_array, [0, 10])"
   ]
  },
  {
   "cell_type": "markdown",
   "metadata": {},
   "source": [
    "### mipz"
   ]
  },
  {
   "cell_type": "code",
   "execution_count": 16,
   "metadata": {},
   "outputs": [],
   "source": [
    "%matplotlib tk\n",
    "img = sitk.ReadImage('../samples/phantom.nii.gz')\n",
    "imarray = sitk.GetArrayFromImage(img)\n",
    "imshape = iv.mipz(imarray, space=[3.125,2.886]).shape\n",
    "mip_array = np.zeros((36, imshape[0], imshape[1]))\n",
    "for i in range(0, 360, 10):\n",
    "    mip_array[int(i/10),:,:] = iv.mipz(imarray, i, [3.125,2.886])\n",
    "iv.imagesc3slider(mip_array, [0, 10])\n"
   ]
  },
  {
   "cell_type": "markdown",
   "metadata": {},
   "source": [
    "### nifti_convert"
   ]
  },
  {
   "cell_type": "code",
   "execution_count": 17,
   "metadata": {},
   "outputs": [],
   "source": [
    "dicom_dir = \"../samples/OSEM I8s20 nopsf_407\"\n",
    "nifti_file = \"../samples/phantom.nii.gz\"\n",
    "iv.dicom2niftiSUV(dicom_dir, nifti_file)"
   ]
  },
  {
   "cell_type": "markdown",
   "metadata": {},
   "source": [
    "### dicomdir_split\n",
    "\n",
    "TBD."
   ]
  }
 ],
 "metadata": {
  "kernelspec": {
   "display_name": ".venv",
   "language": "python",
   "name": "python3"
  },
  "language_info": {
   "codemirror_mode": {
    "name": "ipython",
    "version": 3
   },
   "file_extension": ".py",
   "mimetype": "text/x-python",
   "name": "python",
   "nbconvert_exporter": "python",
   "pygments_lexer": "ipython3",
   "version": "3.12.1"
  }
 },
 "nbformat": 4,
 "nbformat_minor": 2
}
